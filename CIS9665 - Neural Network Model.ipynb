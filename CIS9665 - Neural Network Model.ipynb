{
 "cells": [
  {
   "cell_type": "code",
   "execution_count": 1,
   "id": "44b2cbc1",
   "metadata": {},
   "outputs": [],
   "source": [
    "import numpy as np\n",
    "import pandas as pd\n",
    "import matplotlib.pyplot as plt\n",
    "import seaborn as sns\n",
    "from sklearn.model_selection import train_test_split\n",
    "\n",
    "import tensorflow as tf\n",
    "from tensorflow.keras import layers, callbacks, Sequential\n",
    "from tensorflow.keras.preprocessing.text import Tokenizer\n",
    "from tensorflow.keras.preprocessing.sequence import pad_sequences\n",
    "\n",
    "# to not show any warnings\n",
    "import warnings\n",
    "warnings.filterwarnings(\"ignore\")\n",
    "\n",
    "# stops tensorflow's spam\n",
    "import os\n",
    "os.environ['TF_CPP_MIN_LOG_LEVEL'] = '2'"
   ]
  },
  {
   "cell_type": "markdown",
   "id": "3287d6db",
   "metadata": {},
   "source": [
    "###### Data load"
   ]
  },
  {
   "cell_type": "code",
   "execution_count": 2,
   "id": "dddda58b",
   "metadata": {},
   "outputs": [
    {
     "data": {
      "text/html": [
       "<div>\n",
       "<style scoped>\n",
       "    .dataframe tbody tr th:only-of-type {\n",
       "        vertical-align: middle;\n",
       "    }\n",
       "\n",
       "    .dataframe tbody tr th {\n",
       "        vertical-align: top;\n",
       "    }\n",
       "\n",
       "    .dataframe thead th {\n",
       "        text-align: right;\n",
       "    }\n",
       "</style>\n",
       "<table border=\"1\" class=\"dataframe\">\n",
       "  <thead>\n",
       "    <tr style=\"text-align: right;\">\n",
       "      <th></th>\n",
       "      <th>Body</th>\n",
       "      <th>Label</th>\n",
       "    </tr>\n",
       "  </thead>\n",
       "  <tbody>\n",
       "    <tr>\n",
       "      <th>0</th>\n",
       "      <td>Subject: great part-time or summer job !\\n \\n ...</td>\n",
       "      <td>1</td>\n",
       "    </tr>\n",
       "    <tr>\n",
       "      <th>1</th>\n",
       "      <td>Subject: auto insurance rates too high ?\\n \\n ...</td>\n",
       "      <td>1</td>\n",
       "    </tr>\n",
       "    <tr>\n",
       "      <th>2</th>\n",
       "      <td>Subject: do want the best and economical hunti...</td>\n",
       "      <td>1</td>\n",
       "    </tr>\n",
       "    <tr>\n",
       "      <th>3</th>\n",
       "      <td>Subject: email 57 million people for $ 99\\n \\n...</td>\n",
       "      <td>1</td>\n",
       "    </tr>\n",
       "    <tr>\n",
       "      <th>4</th>\n",
       "      <td>Subject: do n't miss these !\\n \\n attention ! ...</td>\n",
       "      <td>1</td>\n",
       "    </tr>\n",
       "  </tbody>\n",
       "</table>\n",
       "</div>"
      ],
      "text/plain": [
       "                                                Body  Label\n",
       "0  Subject: great part-time or summer job !\\n \\n ...      1\n",
       "1  Subject: auto insurance rates too high ?\\n \\n ...      1\n",
       "2  Subject: do want the best and economical hunti...      1\n",
       "3  Subject: email 57 million people for $ 99\\n \\n...      1\n",
       "4  Subject: do n't miss these !\\n \\n attention ! ...      1"
      ]
     },
     "execution_count": 2,
     "metadata": {},
     "output_type": "execute_result"
    }
   ],
   "source": [
    "# datasets from: https://www.kaggle.com/code/keithcooper/spam-vs-ham-neural-network/data\n",
    "\n",
    "cols = ['Body', 'Label']\n",
    "\n",
    "df1 = pd.read_csv('lingSpam.csv', usecols = cols)\n",
    "df2 = pd.read_csv('enronSpamSubset.csv', usecols = cols)\n",
    "df3 = pd.read_csv('completeSpamAssassin.csv', usecols = cols)\n",
    "\n",
    "df = df1.append(df2).append(df3)\n",
    "\n",
    "df.Body = df.Body.astype(str)\n",
    "\n",
    "df.head()"
   ]
  },
  {
   "cell_type": "markdown",
   "id": "0c9f3865",
   "metadata": {},
   "source": [
    "0 = not spam, 1 = spam"
   ]
  },
  {
   "cell_type": "markdown",
   "id": "ef9646c1",
   "metadata": {},
   "source": [
    "###### Separating data into training and testing sets"
   ]
  },
  {
   "cell_type": "code",
   "execution_count": 3,
   "id": "3534d26d",
   "metadata": {},
   "outputs": [
    {
     "name": "stdout",
     "output_type": "stream",
     "text": [
      "X_train.shape: (13988,)\n",
      "X_test.shape: (4663,)\n",
      "y_train.shape: (13988,)\n",
      "y_test.shape: (4663,)\n"
     ]
    }
   ],
   "source": [
    "y = df.Label\n",
    "X = df.Body\n",
    "\n",
    "X_train, X_test, y_train, y_test = train_test_split(X, y, random_state=123)\n",
    "\n",
    "# print data shapes\n",
    "print(\"X_train.shape:\", X_train.shape)\n",
    "print(\"X_test.shape:\", X_test.shape)\n",
    "print(\"y_train.shape:\", y_train.shape)\n",
    "print(\"y_test.shape:\", y_test.shape)"
   ]
  },
  {
   "cell_type": "markdown",
   "id": "cb44e4bf",
   "metadata": {},
   "source": [
    "###### Data preparation"
   ]
  },
  {
   "cell_type": "code",
   "execution_count": 4,
   "id": "8c210bed",
   "metadata": {},
   "outputs": [],
   "source": [
    "# split text into tokens and turn these into numbers\n",
    "# 'oov' stands for out of vocabulary  and means any word not seen before\n",
    "\n",
    "# some hyperparameters\n",
    "numWords = 20000\n",
    "maxLength = 200\n",
    "\n",
    "tokenizer = Tokenizer(num_words = numWords, oov_token = '<OOV>')\n",
    "tokenizer.fit_on_texts(X_train)\n",
    "word_index = tokenizer.word_index\n",
    "\n",
    "train_sequences = tokenizer.texts_to_sequences(X_train)\n",
    "train_padded = pad_sequences(train_sequences, padding = 'post', maxlen = maxLength, truncating = 'post')\n",
    "\n",
    "test_sequences = tokenizer.texts_to_sequences(X_test)\n",
    "test_padded = pad_sequences(test_sequences, padding = 'post', maxlen = maxLength, truncating = 'post')"
   ]
  },
  {
   "cell_type": "markdown",
   "id": "644d43f9",
   "metadata": {},
   "source": [
    "###### Model creation"
   ]
  },
  {
   "cell_type": "code",
   "execution_count": 5,
   "id": "5e97b683",
   "metadata": {},
   "outputs": [
    {
     "name": "stdout",
     "output_type": "stream",
     "text": [
      "Model: \"sequential\"\n",
      "_________________________________________________________________\n",
      " Layer (type)                Output Shape              Param #   \n",
      "=================================================================\n",
      " embedding (Embedding)       (None, 200, 16)           320000    \n",
      "                                                                 \n",
      " global_average_pooling1d (G  (None, 16)               0         \n",
      " lobalAveragePooling1D)                                          \n",
      "                                                                 \n",
      " dense (Dense)               (None, 24)                408       \n",
      "                                                                 \n",
      " dense_1 (Dense)             (None, 1)                 25        \n",
      "                                                                 \n",
      "=================================================================\n",
      "Total params: 320,433\n",
      "Trainable params: 320,433\n",
      "Non-trainable params: 0\n",
      "_________________________________________________________________\n"
     ]
    }
   ],
   "source": [
    "# inputs should equal number of words entered into model\n",
    "# output should be 1, since we only have one result/decision (spam or not spam)\n",
    "\n",
    "model = Sequential([\n",
    "    layers.Embedding(numWords, 16, input_length=maxLength),\n",
    "    layers.GlobalAveragePooling1D(),\n",
    "    layers.Dense(24, activation='relu'),\n",
    "    layers.Dense(1, activation='sigmoid')\n",
    "])\n",
    "model.compile(loss='binary_crossentropy',optimizer='adam',metrics=['accuracy'])\n",
    "\n",
    "model.summary()"
   ]
  },
  {
   "cell_type": "markdown",
   "id": "76f36566",
   "metadata": {},
   "source": [
    "###### Running the model"
   ]
  },
  {
   "cell_type": "code",
   "execution_count": 6,
   "id": "284c242f",
   "metadata": {},
   "outputs": [
    {
     "name": "stdout",
     "output_type": "stream",
     "text": [
      "Epoch 1/30\n",
      "438/438 - 3s - loss: 0.4235 - accuracy: 0.8176 - val_loss: 0.1654 - val_accuracy: 0.9472 - 3s/epoch - 7ms/step\n",
      "Epoch 2/30\n",
      "438/438 - 2s - loss: 0.1209 - accuracy: 0.9643 - val_loss: 0.0928 - val_accuracy: 0.9717 - 2s/epoch - 5ms/step\n",
      "Epoch 3/30\n",
      "438/438 - 2s - loss: 0.0759 - accuracy: 0.9741 - val_loss: 0.0753 - val_accuracy: 0.9732 - 2s/epoch - 5ms/step\n",
      "Epoch 4/30\n",
      "438/438 - 2s - loss: 0.0555 - accuracy: 0.9801 - val_loss: 0.0723 - val_accuracy: 0.9650 - 2s/epoch - 5ms/step\n",
      "Epoch 5/30\n",
      "438/438 - 2s - loss: 0.0440 - accuracy: 0.9831 - val_loss: 0.0634 - val_accuracy: 0.9781 - 2s/epoch - 5ms/step\n",
      "Epoch 6/30\n",
      "438/438 - 2s - loss: 0.0368 - accuracy: 0.9841 - val_loss: 0.0631 - val_accuracy: 0.9771 - 2s/epoch - 5ms/step\n",
      "Epoch 7/30\n",
      "438/438 - 2s - loss: 0.0319 - accuracy: 0.9856 - val_loss: 0.0639 - val_accuracy: 0.9768 - 2s/epoch - 5ms/step\n",
      "Epoch 8/30\n",
      "438/438 - 2s - loss: 0.0306 - accuracy: 0.9848 - val_loss: 0.0646 - val_accuracy: 0.9689 - 2s/epoch - 5ms/step\n",
      "Epoch 9/30\n",
      "438/438 - 2s - loss: 0.0281 - accuracy: 0.9868 - val_loss: 0.0648 - val_accuracy: 0.9773 - 2s/epoch - 5ms/step\n",
      "Epoch 10/30\n",
      "438/438 - 2s - loss: 0.0280 - accuracy: 0.9859 - val_loss: 0.0725 - val_accuracy: 0.9665 - 2s/epoch - 5ms/step\n",
      "Epoch 11/30\n",
      "438/438 - 2s - loss: 0.0273 - accuracy: 0.9852 - val_loss: 0.0792 - val_accuracy: 0.9668 - 2s/epoch - 5ms/step\n",
      "Epoch 12/30\n",
      "438/438 - 2s - loss: 0.0255 - accuracy: 0.9866 - val_loss: 0.0661 - val_accuracy: 0.9788 - 2s/epoch - 5ms/step\n",
      "Epoch 13/30\n",
      "438/438 - 2s - loss: 0.0250 - accuracy: 0.9868 - val_loss: 0.0681 - val_accuracy: 0.9777 - 2s/epoch - 5ms/step\n",
      "Epoch 14/30\n",
      "438/438 - 2s - loss: 0.0255 - accuracy: 0.9863 - val_loss: 0.0682 - val_accuracy: 0.9786 - 2s/epoch - 5ms/step\n",
      "Epoch 15/30\n",
      "438/438 - 2s - loss: 0.0241 - accuracy: 0.9876 - val_loss: 0.0704 - val_accuracy: 0.9781 - 2s/epoch - 5ms/step\n",
      "Epoch 16/30\n",
      "438/438 - 2s - loss: 0.0260 - accuracy: 0.9862 - val_loss: 0.0716 - val_accuracy: 0.9768 - 2s/epoch - 5ms/step\n",
      "Epoch 17/30\n",
      "438/438 - 2s - loss: 0.0238 - accuracy: 0.9871 - val_loss: 0.0743 - val_accuracy: 0.9687 - 2s/epoch - 5ms/step\n",
      "Epoch 18/30\n",
      "438/438 - 2s - loss: 0.0244 - accuracy: 0.9867 - val_loss: 0.0729 - val_accuracy: 0.9779 - 2s/epoch - 5ms/step\n",
      "Epoch 19/30\n",
      "438/438 - 2s - loss: 0.0230 - accuracy: 0.9876 - val_loss: 0.0785 - val_accuracy: 0.9687 - 2s/epoch - 5ms/step\n",
      "Epoch 20/30\n",
      "438/438 - 2s - loss: 0.0231 - accuracy: 0.9873 - val_loss: 0.0789 - val_accuracy: 0.9771 - 2s/epoch - 5ms/step\n",
      "Epoch 21/30\n",
      "438/438 - 2s - loss: 0.0236 - accuracy: 0.9863 - val_loss: 0.0768 - val_accuracy: 0.9775 - 2s/epoch - 5ms/step\n",
      "Epoch 22/30\n",
      "438/438 - 2s - loss: 0.0230 - accuracy: 0.9877 - val_loss: 0.0854 - val_accuracy: 0.9672 - 2s/epoch - 5ms/step\n",
      "Epoch 23/30\n",
      "438/438 - 2s - loss: 0.0232 - accuracy: 0.9868 - val_loss: 0.0804 - val_accuracy: 0.9771 - 2s/epoch - 5ms/step\n",
      "Epoch 24/30\n",
      "438/438 - 2s - loss: 0.0220 - accuracy: 0.9877 - val_loss: 0.0809 - val_accuracy: 0.9773 - 2s/epoch - 5ms/step\n",
      "Epoch 25/30\n",
      "438/438 - 2s - loss: 0.0222 - accuracy: 0.9877 - val_loss: 0.0826 - val_accuracy: 0.9762 - 2s/epoch - 5ms/step\n",
      "Epoch 26/30\n",
      "438/438 - 2s - loss: 0.0225 - accuracy: 0.9868 - val_loss: 0.0841 - val_accuracy: 0.9758 - 2s/epoch - 5ms/step\n",
      "Epoch 27/30\n",
      "438/438 - 2s - loss: 0.0224 - accuracy: 0.9871 - val_loss: 0.0919 - val_accuracy: 0.9751 - 2s/epoch - 5ms/step\n",
      "Epoch 28/30\n",
      "438/438 - 2s - loss: 0.0234 - accuracy: 0.9864 - val_loss: 0.0881 - val_accuracy: 0.9758 - 2s/epoch - 5ms/step\n",
      "Epoch 29/30\n",
      "438/438 - 2s - loss: 0.0222 - accuracy: 0.9874 - val_loss: 0.0888 - val_accuracy: 0.9751 - 2s/epoch - 5ms/step\n",
      "Epoch 30/30\n",
      "438/438 - 2s - loss: 0.0212 - accuracy: 0.9875 - val_loss: 0.0913 - val_accuracy: 0.9753 - 2s/epoch - 5ms/step\n"
     ]
    }
   ],
   "source": [
    "num_epochs = 30\n",
    "history = model.fit(train_padded, y_train, epochs=num_epochs, \n",
    "                    validation_data=(test_padded, y_test), verbose=2)"
   ]
  },
  {
   "cell_type": "code",
   "execution_count": 7,
   "id": "4adead9e",
   "metadata": {},
   "outputs": [
    {
     "data": {
      "image/png": "[encoded data removed]",
      "text/plain": [
       "<Figure size 432x288 with 1 Axes>"
      ]
     },
     "metadata": {
      "needs_background": "light"
     },
     "output_type": "display_data"
    },
    {
     "data": {
      "image/png": "[encoded data removed]",
      "text/plain": [
       "<Figure size 432x288 with 1 Axes>"
      ]
     },
     "metadata": {
      "needs_background": "light"
     },
     "output_type": "display_data"
    }
   ],
   "source": [
    "# summarise data in graph\n",
    "\n",
    "def plot_graphs(history, string):\n",
    "    plt.plot(history.history[string])\n",
    "    plt.plot(history.history['val_'+string])\n",
    "    plt.xlabel(\"Epochs\")\n",
    "    plt.ylabel(string)\n",
    "    plt.legend([string, 'val_'+string])\n",
    "    plt.show()\n",
    "\n",
    "plot_graphs(history, \"accuracy\")\n",
    "plot_graphs(history, \"loss\")"
   ]
  },
  {
   "cell_type": "markdown",
   "id": "75e32914",
   "metadata": {},
   "source": [
    "###### Tuning the model"
   ]
  },
  {
   "cell_type": "code",
   "execution_count": 8,
   "id": "ab1534d0",
   "metadata": {},
   "outputs": [
    {
     "name": "stdout",
     "output_type": "stream",
     "text": [
      "Epoch 1/200\n",
      "438/438 - 2s - loss: 0.0219 - accuracy: 0.9868 - val_loss: 0.0919 - val_accuracy: 0.9747 - 2s/epoch - 5ms/step\n",
      "Epoch 2/200\n",
      "438/438 - 2s - loss: 0.0224 - accuracy: 0.9874 - val_loss: 0.1016 - val_accuracy: 0.9736 - 2s/epoch - 5ms/step\n",
      "Epoch 3/200\n",
      "438/438 - 2s - loss: 0.0226 - accuracy: 0.9870 - val_loss: 0.0961 - val_accuracy: 0.9747 - 2s/epoch - 5ms/step\n",
      "Epoch 4/200\n",
      "438/438 - 2s - loss: 0.0218 - accuracy: 0.9872 - val_loss: 0.0983 - val_accuracy: 0.9738 - 2s/epoch - 5ms/step\n",
      "Epoch 5/200\n",
      "438/438 - 2s - loss: 0.0219 - accuracy: 0.9874 - val_loss: 0.0968 - val_accuracy: 0.9745 - 2s/epoch - 5ms/step\n",
      "Epoch 6/200\n",
      "438/438 - 2s - loss: 0.0224 - accuracy: 0.9871 - val_loss: 0.1009 - val_accuracy: 0.9657 - 2s/epoch - 5ms/step\n",
      "Best Model Found\n"
     ]
    }
   ],
   "source": [
    "# below will stop the model from running when overfitting is detected\n",
    "early_stopping = callbacks.EarlyStopping(\n",
    "    min_delta=0.001,\n",
    "    # patience means it will carry on checking for this number of epochs before it gives up and goes back to the best result\n",
    "    patience=5,\n",
    "    restore_best_weights=True,\n",
    ")\n",
    "\n",
    "# recreating the model, this time with 200 epochs to test early_stopping\n",
    "large_num_epochs = 200\n",
    "better_history = model.fit(train_padded, y_train, epochs=large_num_epochs,\n",
    "                           validation_data=(test_padded, y_test), verbose=2,\n",
    "                           callbacks=[early_stopping])\n",
    "\n",
    "print('Best Model Found')"
   ]
  },
  {
   "cell_type": "markdown",
   "id": "993c9576",
   "metadata": {},
   "source": [
    "###### Evaluating Model (metrics)"
   ]
  },
  {
   "cell_type": "code",
   "execution_count": 9,
   "id": "29f0cd52",
   "metadata": {},
   "outputs": [
    {
     "name": "stdout",
     "output_type": "stream",
     "text": [
      "146/146 [==============================] - 0s 2ms/step - loss: 0.0919 - accuracy: 0.9747\n"
     ]
    }
   ],
   "source": [
    "result = model.evaluate(test_padded, y_test)"
   ]
  },
  {
   "cell_type": "code",
   "execution_count": 10,
   "id": "d7e13f28",
   "metadata": {},
   "outputs": [
    {
     "name": "stdout",
     "output_type": "stream",
     "text": [
      "146/146 [==============================] - 0s 1ms/step\n"
     ]
    },
    {
     "data": {
      "text/plain": [
       "array([[9.99460042e-01],\n",
       "       [2.08052586e-14],\n",
       "       [7.28949785e-01],\n",
       "       [2.00775485e-05],\n",
       "       [1.76837744e-08],\n",
       "       [9.04756308e-01],\n",
       "       [9.99999464e-01],\n",
       "       [9.99794960e-01],\n",
       "       [7.57286471e-05],\n",
       "       [7.71371333e-07],\n",
       "       [9.88406003e-01],\n",
       "       [6.48511013e-06],\n",
       "       [9.99999166e-01],\n",
       "       [1.00000000e+00],\n",
       "       [9.99863863e-01],\n",
       "       [5.69158056e-13],\n",
       "       [2.40278769e-10],\n",
       "       [3.63445070e-05],\n",
       "       [1.15580049e-04],\n",
       "       [9.99891937e-01],\n",
       "       [3.96558724e-17],\n",
       "       [2.12624043e-04],\n",
       "       [6.71982008e-08],\n",
       "       [5.94866947e-07],\n",
       "       [9.99966443e-01],\n",
       "       [9.94048536e-01],\n",
       "       [9.99979913e-01],\n",
       "       [9.99998748e-01],\n",
       "       [6.81863558e-21],\n",
       "       [3.47301848e-02],\n",
       "       [2.68106064e-25],\n",
       "       [7.86085911e-06],\n",
       "       [9.99982476e-01],\n",
       "       [9.68622127e-11],\n",
       "       [9.99942482e-01],\n",
       "       [5.48077649e-14],\n",
       "       [9.99982238e-01],\n",
       "       [9.99786496e-01],\n",
       "       [1.47523114e-08],\n",
       "       [1.47229506e-10],\n",
       "       [6.08254652e-07],\n",
       "       [3.75685971e-07],\n",
       "       [7.90867996e-11],\n",
       "       [2.85774998e-28],\n",
       "       [6.58208110e-09],\n",
       "       [1.00000000e+00],\n",
       "       [1.36379801e-35],\n",
       "       [4.30338516e-19],\n",
       "       [1.10821019e-09],\n",
       "       [2.44727849e-13],\n",
       "       [5.19836085e-09],\n",
       "       [5.49333037e-27],\n",
       "       [9.99999106e-01],\n",
       "       [1.84689850e-12],\n",
       "       [9.99999940e-01],\n",
       "       [9.99968708e-01],\n",
       "       [9.99816775e-01],\n",
       "       [2.35455197e-29],\n",
       "       [5.82122326e-01],\n",
       "       [1.85891854e-23],\n",
       "       [5.91823936e-01],\n",
       "       [9.13052050e-14],\n",
       "       [9.99578118e-01],\n",
       "       [1.14334689e-13],\n",
       "       [9.99948382e-01],\n",
       "       [4.31307656e-10],\n",
       "       [9.99990165e-01],\n",
       "       [4.93090860e-16],\n",
       "       [1.16174306e-07],\n",
       "       [9.98513460e-01],\n",
       "       [7.07946456e-05],\n",
       "       [1.00000000e+00],\n",
       "       [2.37430733e-08],\n",
       "       [8.12108465e-06],\n",
       "       [2.08105175e-05],\n",
       "       [2.96709977e-16],\n",
       "       [1.46724004e-03],\n",
       "       [9.99972761e-01],\n",
       "       [1.63437000e-10],\n",
       "       [1.00000000e+00],\n",
       "       [5.77598912e-05],\n",
       "       [5.91823936e-01],\n",
       "       [1.54022287e-04],\n",
       "       [1.29356031e-05],\n",
       "       [6.89429833e-11],\n",
       "       [4.36253123e-16],\n",
       "       [7.83179348e-05],\n",
       "       [1.17001314e-07],\n",
       "       [9.99924242e-01],\n",
       "       [5.52282060e-08],\n",
       "       [1.00000000e+00],\n",
       "       [2.12267814e-10],\n",
       "       [9.99988973e-01],\n",
       "       [1.38485049e-07],\n",
       "       [8.12600696e-23],\n",
       "       [2.86357276e-16],\n",
       "       [5.55378857e-17],\n",
       "       [6.20492827e-03],\n",
       "       [1.00000000e+00],\n",
       "       [5.14995619e-08]], dtype=float32)"
      ]
     },
     "execution_count": 10,
     "metadata": {},
     "output_type": "execute_result"
    }
   ],
   "source": [
    "# yp = y-predictor\n",
    "yp = model.predict(test_padded)\n",
    "yp[:100]"
   ]
  },
  {
   "cell_type": "code",
   "execution_count": 11,
   "id": "df78b94f",
   "metadata": {},
   "outputs": [],
   "source": [
    "# if value is greater than 0.5, append 1 to list (spam)\n",
    "y_pred = []\n",
    "for element in yp:\n",
    "    if element > 0.5:\n",
    "        y_pred.append(1)\n",
    "    else:\n",
    "        y_pred.append(0)"
   ]
  },
  {
   "cell_type": "code",
   "execution_count": 12,
   "id": "91c064d3",
   "metadata": {},
   "outputs": [
    {
     "data": {
      "text/plain": [
       "[1, 0, 1, 0, 0, 1, 1, 1, 0, 0, 1, 0, 1, 1, 1, 0, 0, 0, 0, 1, 0, 0, 0, 0, 1]"
      ]
     },
     "execution_count": 12,
     "metadata": {},
     "output_type": "execute_result"
    }
   ],
   "source": [
    "y_pred[:25]"
   ]
  },
  {
   "cell_type": "code",
   "execution_count": 13,
   "id": "4683c16e",
   "metadata": {},
   "outputs": [
    {
     "data": {
      "text/plain": [
       "4302    1\n",
       "1512    0\n",
       "34      1\n",
       "5703    0\n",
       "6301    0\n",
       "1212    1\n",
       "2508    1\n",
       "4655    1\n",
       "1239    0\n",
       "4023    0\n",
       "2358    1\n",
       "5778    0\n",
       "3791    1\n",
       "1184    1\n",
       "2514    1\n",
       "6841    0\n",
       "1798    0\n",
       "9703    0\n",
       "6333    0\n",
       "3147    1\n",
       "1199    0\n",
       "2054    0\n",
       "9359    0\n",
       "4716    0\n",
       "2779    1\n",
       "Name: Label, dtype: int64"
      ]
     },
     "execution_count": 13,
     "metadata": {},
     "output_type": "execute_result"
    }
   ],
   "source": [
    "y_test[:25]"
   ]
  },
  {
   "cell_type": "code",
   "execution_count": 14,
   "id": "2e405ebe",
   "metadata": {},
   "outputs": [
    {
     "name": "stdout",
     "output_type": "stream",
     "text": [
      "              precision    recall  f1-score   support\n",
      "\n",
      "           0       0.99      0.97      0.98      2846\n",
      "           1       0.96      0.98      0.97      1817\n",
      "\n",
      "    accuracy                           0.97      4663\n",
      "   macro avg       0.97      0.98      0.97      4663\n",
      "weighted avg       0.98      0.97      0.97      4663\n",
      "\n"
     ]
    }
   ],
   "source": [
    "from sklearn.metrics import classification_report\n",
    "print(classification_report(y_test, y_pred))"
   ]
  },
  {
   "cell_type": "code",
   "execution_count": 15,
   "id": "b8f863b6",
   "metadata": {},
   "outputs": [
    {
     "data": {
      "text/plain": [
       "Text(69.0, 0.5, 'Truth')"
      ]
     },
     "execution_count": 15,
     "metadata": {},
     "output_type": "execute_result"
    },
    {
     "data": {
      "image/png": "[encoded data removed]",
      "text/plain": [
       "<Figure size 720x504 with 2 Axes>"
      ]
     },
     "metadata": {
      "needs_background": "light"
     },
     "output_type": "display_data"
    }
   ],
   "source": [
    "# cm = confusion matrix\n",
    "cm = tf.math.confusion_matrix(labels=y_test,predictions=y_pred)\n",
    "\n",
    "plt.figure(figsize = (10,7))\n",
    "sns.heatmap(cm, annot=True, fmt='d')\n",
    "plt.xlabel('Predicted')\n",
    "plt.ylabel('Truth')"
   ]
  },
  {
   "cell_type": "markdown",
   "id": "0d82eec6",
   "metadata": {},
   "source": [
    "###### Check model prediction (input mode)"
   ]
  },
  {
   "cell_type": "code",
   "execution_count": 16,
   "id": "24a45863",
   "metadata": {},
   "outputs": [
    {
     "name": "stdout",
     "output_type": "stream",
     "text": [
      "1/1 [==============================] - 0s 24ms/step\n",
      "SPAM\n"
     ]
    }
   ],
   "source": [
    "# uncomment below to run manual prediction\n",
    "\n",
    "#header = input(\"Enter email header: \")\n",
    "#body = input(\"Enter email body: \")\n",
    "#email = 'Subject: ' + header + '\\n\\n' + body\n",
    "\n",
    "# example of spam email (comment to run manually if previous lines are uncommented)\n",
    "email = 'Subject: You have won an iPhone 14 Pro Max/n/n*Click the button to redeem now!'\n",
    "\n",
    "predict_sequences = tokenizer.texts_to_sequences([email,])\n",
    "predict_padded = pad_sequences(predict_sequences, padding = 'post', maxlen = maxLength, truncating = 'post')\n",
    "\n",
    "print('SPAM' if model.predict(predict_padded) > 0.5 else 'NOT SPAM')"
   ]
  }
 ],
 "metadata": {
  "kernelspec": {
   "display_name": "Python 3",
   "language": "python",
   "name": "python3"
  },
  "language_info": {
   "codemirror_mode": {
    "name": "ipython",
    "version": 3
   },
   "file_extension": ".py",
   "mimetype": "text/x-python",
   "name": "python",
   "nbconvert_exporter": "python",
   "pygments_lexer": "ipython3",
   "version": "3.8.8"
  }
 },
 "nbformat": 4,
 "nbformat_minor": 5
}
